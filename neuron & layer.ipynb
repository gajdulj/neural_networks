{
 "cells": [
  {
   "cell_type": "markdown",
   "metadata": {},
   "source": [
    "## P.2 Neuron code"
   ]
  },
  {
   "cell_type": "code",
   "execution_count": 1,
   "metadata": {},
   "outputs": [
    {
     "name": "stdout",
     "output_type": "stream",
     "text": [
      "3.7.6 (default, Jan  8 2020, 13:42:34) \n",
      "[Clang 4.0.1 (tags/RELEASE_401/final)]\n",
      "1.18.1\n",
      "3.1.3\n"
     ]
    }
   ],
   "source": [
    "# version check\n",
    "import sys\n",
    "import numpy as np \n",
    "import matplotlib\n",
    "\n",
    "print(sys.version)\n",
    "print(np.__version__)\n",
    "print(matplotlib.__version__)"
   ]
  },
  {
   "cell_type": "code",
   "execution_count": 2,
   "metadata": {},
   "outputs": [],
   "source": [
    "\"\"\"Neual network\"\"\" \n",
    "\n",
    "# Every neuron has a unique input that comes from previous layer.\n",
    "inputs = [1.2,5.1,2.1]\n",
    "\n",
    "# Every unique neuron has a unique weight\n",
    "weights = [3.1,2.1,8.7]\n",
    "\n",
    "# Every unique neuron has a unique bias\n",
    "bias = 3\n",
    "\n",
    "output = inputs[0]*weights[0]+ inputs[1]*weights[1]+inputs[2]*weights[2]+bias"
   ]
  },
  {
   "cell_type": "code",
   "execution_count": 3,
   "metadata": {},
   "outputs": [
    {
     "data": {
      "text/plain": [
       "35.7"
      ]
     },
     "execution_count": 3,
     "metadata": {},
     "output_type": "execute_result"
    }
   ],
   "source": [
    "output"
   ]
  },
  {
   "cell_type": "markdown",
   "metadata": {},
   "source": [
    "## P.2 Coding a Layer"
   ]
  },
  {
   "cell_type": "code",
   "execution_count": 7,
   "metadata": {},
   "outputs": [
    {
     "name": "stdout",
     "output_type": "stream",
     "text": [
      "[43.58, 29.83, 90.67999999999999]\n"
     ]
    }
   ],
   "source": [
    "inputs = [1.2, 4.6, 5.8, 2.5]\n",
    "\n",
    "weights1 = [3.1, 2.1, 4.5, 1.4]\n",
    "weights2 = [0.6, -2.1, 4.4, 1.7]\n",
    "weights3 = [3.5, 7.1, 8.5, -1.4]\n",
    "\n",
    "bias1 = 0.6\n",
    "bias2 = 6 \n",
    "bias3 = 8.5 \n",
    "\n",
    "output = [inputs[0]* weights [0] + inputs[1]* weights1 [1] +inputs[2]* weights1 [2] + inputs[3]* weights1 [3] + bias1,\n",
    "         inputs[0]* weights [0] + inputs[1]* weights2 [1] +inputs[2]* weights2 [2] + inputs[3]* weights2 [3] + bias2,\n",
    "         inputs[0]* weights[0] + inputs[1]* weights3 [1] +inputs[2]* weights3 [2] + inputs[3]* weights3 [3] + bias3]\n",
    "print (output)"
   ]
  },
  {
   "cell_type": "markdown",
   "metadata": {},
   "source": [
    "---\n",
    "**Weights**\n",
    "\n",
    "The way you would change an output is to change the weights and the biases. The inputs cannot be changed because they come from the actual input data OR they are part of outputs which feed into an input.\n",
    "\n",
    "each input value has 3 unique sets of weights as these are the networks which feed into the input."
   ]
  },
  {
   "cell_type": "code",
   "execution_count": null,
   "metadata": {},
   "outputs": [],
   "source": []
  }
 ],
 "metadata": {
  "kernelspec": {
   "display_name": "Python 3",
   "language": "python",
   "name": "python3"
  },
  "language_info": {
   "codemirror_mode": {
    "name": "ipython",
    "version": 3
   },
   "file_extension": ".py",
   "mimetype": "text/x-python",
   "name": "python",
   "nbconvert_exporter": "python",
   "pygments_lexer": "ipython3",
   "version": "3.7.6"
  }
 },
 "nbformat": 4,
 "nbformat_minor": 4
}
